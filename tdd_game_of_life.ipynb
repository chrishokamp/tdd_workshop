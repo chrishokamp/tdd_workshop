{
 "metadata": {
  "name": "tdd_game_of_life"
 },
 "nbformat": 3,
 "nbformat_minor": 0,
 "worksheets": [
  {
   "cells": [
    {
     "cell_type": "code",
     "collapsed": false,
     "input": "from gameoflife import get_live_cell",
     "language": "python",
     "metadata": {},
     "outputs": []
    },
    {
     "cell_type": "code",
     "collapsed": false,
     "input": "# this returns ALL POSSIBLE CELLS (note they may not exist in the actual grid)\ndef get_neighboring_cells(cell):\n    x = cell[0]\n    y = cell[1]\n    \n    neighbor_cells = set()\n    for i in range(x-1, x+2):\n        for j in range(y-1, y+2):\n            if (i,j) != cell:\n                neighbor_cells.add((i,j))\n                                   \n    return neighbor_cells",
     "language": "python",
     "metadata": {},
     "outputs": [],
     "prompt_number": 22
    },
    {
     "cell_type": "code",
     "collapsed": false,
     "input": "def neighbors_from_grid(cell, grid):\n    possible_neighbors = get_neighboring_cells(cell)\n    neighbors_in_grid = grid.intersection(possible_neighbors)\n    return neighbors_in_grid",
     "language": "python",
     "metadata": {},
     "outputs": [],
     "prompt_number": 82
    },
    {
     "cell_type": "markdown",
     "metadata": {},
     "source": "Any live cell with fewer than two live neighbours dies, as if caused by under-population.\nAny live cell with two or three live neighbours lives on to the next generation.\nAny live cell with more than three live neighbours dies, as if by overcrowding.\nAny dead cell with exactly three live neighbours becomes a live cell, as if by reproduction.\n"
    },
    {
     "cell_type": "code",
     "collapsed": false,
     "input": "def update_grid_state(grid):\n    new_grid = set(grid)\n    # get the grid of candidates\n    candidates = set()\n    \n    for cell in grid:\n        candidates = candidates.union(get_neighboring_cells(cell))\n        \n    for cell in candidates:\n        cell_neighbors = neighbors_from_grid(cell, grid)\n        if len(cell_neighbors) < 2:\n            if cell in new_grid:\n                new_grid.remove(cell)\n        elif len(cell_neighbors) > 3:\n            if cell in new_grid:\n                new_grid.remove(cell)\n        elif len(cell_neighbors) == 3:\n            new_grid.add(cell)\n    return new_grid\n        ",
     "language": "python",
     "metadata": {},
     "outputs": [],
     "prompt_number": 94
    },
    {
     "cell_type": "code",
     "collapsed": false,
     "input": "sample_grid = set([(0,-1), (0,0), (-1,-1), (-1,0), (1,0), (0,1)])\nupdate_grid_state(sample_grid)",
     "language": "python",
     "metadata": {},
     "outputs": [
      {
       "metadata": {},
       "output_type": "pyout",
       "prompt_number": 95,
       "text": "{(-1, -1), (-1, 1), (0, 1), (1, -1), (1, 0), (1, 1)}"
      }
     ],
     "prompt_number": 95
    },
    {
     "cell_type": "code",
     "collapsed": false,
     "input": "import unittest",
     "language": "python",
     "metadata": {},
     "outputs": [],
     "prompt_number": 70
    },
    {
     "cell_type": "code",
     "collapsed": false,
     "input": "class GridTests(unittest.TestCase):\n    def test_find_surrounding(self):\n#         expext neighbors of (0,0)\n        test_cell = (0,0)\n        expected = set([(-1,-1), (-1,0), (-1,1), (0,-1), (0,1), (1,-1), (1,0), (1,1)])\n        self.assertEqual(get_neighboring_cells(test_cell), expected)\n        \n    def test_live_neighbors(self):\n        sample_grid = set([(0,-1), (0,0), (0,1)])\n        expected = set([(0,-1), (0,1)])\n        output = neighbors_from_grid((0,0), sample_grid)\n        self.assertEqual(output, expected)\n        \n    \n    def test_num_neighbors(self):\n        sample_grid = set([(0,-1), (0,0), (0,1)])\n        expected = set([(0,-1), (0,1)])\n        output = len(neighbors_from_grid((0,0), sample_grid))\n        self.assertEqual(output, 2)\n    \n    \n    def test_die_if_too_many_neighbors(self):\n        # if a cell has \n        sample_grid = set([(0,-1), (0,0), (-1,-1), (-1,0), (1,0), (0,1)])\n        new_grid = update_grid_state(sample_grid)\n        self.assertTrue((0,0) not in new_grid)\n        \n        ",
     "language": "python",
     "metadata": {},
     "outputs": [],
     "prompt_number": 96
    },
    {
     "cell_type": "code",
     "collapsed": false,
     "input": "suite = unittest.TestLoader().loadTestsFromTestCase(GridTests)\nunittest.TextTestRunner().run(suite)",
     "language": "python",
     "metadata": {},
     "outputs": [
      {
       "metadata": {},
       "output_type": "pyout",
       "prompt_number": 97,
       "text": "<unittest.runner.TextTestResult run=4 errors=0 failures=0>"
      }
     ],
     "prompt_number": 97
    },
    {
     "cell_type": "code",
     "collapsed": false,
     "input": "",
     "language": "python",
     "metadata": {},
     "outputs": [],
     "prompt_number": 47
    },
    {
     "cell_type": "code",
     "collapsed": false,
     "input": "",
     "language": "python",
     "metadata": {},
     "outputs": []
    }
   ],
   "metadata": {}
  }
 ]
}